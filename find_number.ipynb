{
 "cells": [
  {
   "cell_type": "markdown",
   "metadata": {},
   "source": [
    "# Number detection"
   ]
  },
  {
   "cell_type": "markdown",
   "metadata": {},
   "source": [
    "## first we fetch our pictures "
   ]
  },
  {
   "cell_type": "code",
   "execution_count": 351,
   "metadata": {},
   "outputs": [],
   "source": [
    "import os\n",
    "\n",
    "def list_files(directory, label):\n",
    "    a = []\n",
    "    for filename in os.listdir(directory):\n",
    "        joined = os.path.join(directory, filename)\n",
    "        a.append((joined,label))\n",
    "    return a\n",
    "path = './numbers/'\n",
    "f = os.listdir(path)\n",
    "examples = []\n",
    "for i in f:\n",
    "    examples += list_files(path + i,i)\n",
    "\n",
    "path = './Letters/'\n",
    "f = os.listdir(path)\n",
    "for i in f:\n",
    "    examples += list_files(path + i,i)\n"
   ]
  },
  {
   "cell_type": "markdown",
   "metadata": {},
   "source": [
    "### change color to gray"
   ]
  },
  {
   "cell_type": "code",
   "execution_count": 352,
   "metadata": {},
   "outputs": [
    {
     "name": "stdout",
     "output_type": "stream",
     "text": [
      "[ 9.  9.  9. ... 12. 12. 12.]\n",
      "float32 0.0 1.0 (1734, 64, 60)\n",
      "float32 0.0 24.0 (1734,)\n"
     ]
    },
    {
     "data": {
      "image/png": "[encoded data removed]",
      "text/plain": [
       "<Figure size 504x648 with 1 Axes>"
      ]
     },
     "metadata": {},
     "output_type": "display_data"
    }
   ],
   "source": [
    "import numpy as np\n",
    "import cv2\n",
    "from skimage.io import imread\n",
    "from skimage.measure import block_reduce\n",
    "import matplotlib.pyplot as plt\n",
    "import matplotlib.image as mpimg\n",
    "\n",
    "x_train = []\n",
    "y_train = []\n",
    "\n",
    "for path,label in examples :\n",
    "    image = cv2.imread(path)\n",
    "    image = cv2.cvtColor(image, cv2.COLOR_BGR2GRAY)\n",
    "    image = cv2.resize(image,(180,192))\n",
    "    x_train.append(image)\n",
    "    y_train.append(label)\n",
    "    \n",
    "    \n",
    "x_train = np.asarray(x_train)\n",
    "y_train = np.asarray(y_train)\n",
    "\n",
    "x_train = x_train.astype(np.float32) / 255.\n",
    "y_train = y_train.astype(np.float32)\n"
   ]
  },
  {
   "cell_type": "code",
   "execution_count": 353,
   "metadata": {},
   "outputs": [],
   "source": [
    "from keras.utils import np_utils,to_categorical\n",
    "y_train = np_utils.to_categorical(y_train).astype(np.float32)\n",
    "#shuffle data\n",
    "indices = np.arange(len(x_train))\n",
    "temp_x = x_train\n",
    "temp_y = y_train\n",
    "np.random.shuffle(indices)\n",
    "x_train = x_train[indices]\n",
    "y_train = y_train[indices]\n",
    "\n"
   ]
  },
  {
   "cell_type": "code",
   "execution_count": 354,
   "metadata": {},
   "outputs": [
    {
     "name": "stdout",
     "output_type": "stream",
     "text": [
      "(1387, 64, 60, 1)\n"
     ]
    }
   ],
   "source": [
    "import numpy as np\n",
    "import matplotlib.pyplot as plt\n",
    "\n",
    "from keras.datasets import mnist\n",
    "from keras.models import Sequential\n",
    "from keras.layers.core import Dense, Dropout, Activation\n",
    "from keras.utils import np_utils, to_categorical,get_source_inputs\n",
    "from sklearn.model_selection import train_test_split\n",
    "from keras import models\n",
    "from keras import layers\n",
    "x_train = np.expand_dims(x_train, axis=-1)\n",
    "(trainX, testX, trainY, testY) = train_test_split(x_train, y_train, test_size=0.20, random_state=1)\n",
    "\n",
    "filters = 32\n",
    "conv_size = 3\n",
    "pool_size = 2\n",
    "number_of_categories = 25\n",
    "print(trainX.shape)\n",
    "network = Sequential()\n",
    "network.add(layers.Conv2D(filters,(conv_size,conv_size),activation=\"relu\",input_shape=trainX.shape[1:]))\n",
    "network.add(layers.MaxPooling2D((pool_size,pool_size)))\n",
    "network.add(layers.Conv2D(filters*2,(conv_size,conv_size),activation=\"relu\",input_shape=trainX.shape[1:]))\n",
    "network.add(layers.MaxPooling2D((pool_size,pool_size)))\n",
    "network.add(layers.Flatten())\n",
    "network.add(Dense(256, activation='relu'))\n",
    "network.add(Dense(32, activation='relu'))\n",
    "network.add(Dense(number_of_categories, activation='softmax'))\n",
    "# network.summary()"
   ]
  },
  {
   "cell_type": "code",
   "execution_count": 355,
   "metadata": {},
   "outputs": [],
   "source": [
    "network.compile(optimizer='rmsprop', loss='categorical_crossentropy', metrics=['accuracy'])\n"
   ]
  },
  {
   "cell_type": "code",
   "execution_count": 356,
   "metadata": {},
   "outputs": [
    {
     "name": "stdout",
     "output_type": "stream",
     "text": [
      "Epoch 1/5\n",
      "1387/1387 [==============================] - 9s 7ms/step - loss: 1.5972 - acc: 0.6157\n",
      "Epoch 2/5\n",
      "1387/1387 [==============================] - 7s 5ms/step - loss: 0.2573 - acc: 0.9459\n",
      "Epoch 3/5\n",
      "1387/1387 [==============================] - 7s 5ms/step - loss: 0.0819 - acc: 0.9776\n",
      "Epoch 4/5\n",
      "1387/1387 [==============================] - 7s 5ms/step - loss: 0.0419 - acc: 0.9892\n",
      "Epoch 5/5\n",
      "1387/1387 [==============================] - 7s 5ms/step - loss: 0.0090 - acc: 0.9986\n"
     ]
    }
   ],
   "source": [
    "history = network.fit(trainX, trainY, epochs=5)"
   ]
  },
  {
   "cell_type": "code",
   "execution_count": 357,
   "metadata": {},
   "outputs": [
    {
     "name": "stdout",
     "output_type": "stream",
     "text": [
      "347/347 [==============================] - 1s 4ms/step\n",
      "Test score: 0.0027521583186234386\n",
      "Test accuracy: 1.0\n"
     ]
    }
   ],
   "source": [
    "score = network.evaluate(testX, testY)\n",
    "\n",
    "print('Test score:', score[0])\n",
    "print('Test accuracy:', score[1])"
   ]
  },
  {
   "cell_type": "code",
   "execution_count": 358,
   "metadata": {},
   "outputs": [
    {
     "name": "stdout",
     "output_type": "stream",
     "text": [
      "dict_keys(['loss', 'acc'])\n"
     ]
    },
    {
     "data": {
      "image/png": "[encoded data removed]",
      "text/plain": [
       "<Figure size 504x648 with 1 Axes>"
      ]
     },
     "metadata": {},
     "output_type": "display_data"
    }
   ],
   "source": [
    "history_dict = history.history\n",
    "print(history_dict.keys())\n",
    "\n",
    "plt.style.use(\"ggplot\")\n",
    "plt.figure()\n",
    "plt.plot(history.history[\"loss\"], label=\"train_loss\")\n",
    "plt.plot(history.history[\"acc\"], label=\"acc\")\n",
    "plt.title(\"Training Loss and Accuracy\")\n",
    "plt.xlabel(\"Epoch #\")\n",
    "plt.ylabel(\"Loss/Accuracy\")\n",
    "plt.legend()\n",
    "plt.show()"
   ]
  },
  {
   "cell_type": "code",
   "execution_count": 389,
   "metadata": {},
   "outputs": [],
   "source": [
    "predicted_classes = network.predict_classes(testX[78:79])\n"
   ]
  },
  {
   "cell_type": "code",
   "execution_count": 390,
   "metadata": {},
   "outputs": [
    {
     "name": "stdout",
     "output_type": "stream",
     "text": [
      "[14]\n",
      "[0. 0. 0. 0. 0. 0. 0. 0. 0. 0. 0. 0. 0. 0. 1. 0. 0. 0. 0. 0. 0. 0. 0. 0.\n",
      " 0.]\n"
     ]
    }
   ],
   "source": [
    "print(predicted_classes)\n",
    "print(testY[78])\n"
   ]
  },
  {
   "cell_type": "code",
   "execution_count": null,
   "metadata": {},
   "outputs": [],
   "source": []
  }
 ],
 "metadata": {
  "kernelspec": {
   "display_name": "Python 3",
   "language": "python",
   "name": "python3"
  },
  "language_info": {
   "codemirror_mode": {
    "name": "ipython",
    "version": 3
   },
   "file_extension": ".py",
   "mimetype": "text/x-python",
   "name": "python",
   "nbconvert_exporter": "python",
   "pygments_lexer": "ipython3",
   "version": "3.6.7"
  }
 },
 "nbformat": 4,
 "nbformat_minor": 2
}
